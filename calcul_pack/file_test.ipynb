{
 "cells": [
  {
   "attachments": {},
   "cell_type": "markdown",
   "metadata": {},
   "source": [
    "#### Lecture du fichier json"
   ]
  },
  {
   "cell_type": "code",
   "execution_count": 1,
   "metadata": {},
   "outputs": [
    {
     "name": "stdout",
     "output_type": "stream",
     "text": [
      "{'Analyse 1': 12, 'Algèbre 1': 8, 'Physique 1': 12, 'Chimie 1': 12, 'Statistiques': 12, 'Informatique 1': 8, 'Analyse 2': 12, 'Algèbre 2': 8, 'Physique 2': 12, 'Chimie 2': 12, 'Probabilités': 12, 'Informatique 2': 8, 'CAO': 8}\n"
     ]
    }
   ],
   "source": [
    "import json\n",
    "\n",
    "with open('modules.json') as f:\n",
    "   data = json.load(f)\n",
    "\n",
    "print(data)"
   ]
  },
  {
   "cell_type": "code",
   "execution_count": 2,
   "metadata": {},
   "outputs": [
    {
     "data": {
      "text/plain": [
       "8"
      ]
     },
     "execution_count": 2,
     "metadata": {},
     "output_type": "execute_result"
    }
   ],
   "source": [
    "data[\"Algèbre 1\"]"
   ]
  },
  {
   "attachments": {},
   "cell_type": "markdown",
   "metadata": {},
   "source": [
    "#### Lecture du fichier csv"
   ]
  },
  {
   "cell_type": "code",
   "execution_count": 3,
   "metadata": {},
   "outputs": [
    {
     "data": {
      "text/plain": [
       "[[\"Nombre d'heures par mois\", 'Nombre de modules', 'Tarif'],\n",
       " ['8', '1', '1600'],\n",
       " ['12', '1', '2400'],\n",
       " ['16', '2', '3000'],\n",
       " ['20', '2', '3800'],\n",
       " ['24', '2', '4600'],\n",
       " ['24', '3', '4300'],\n",
       " ['28', '3', '5100'],\n",
       " ['32', '3', '5800'],\n",
       " ['36', '3', '6500'],\n",
       " ['36', '4', '6300'],\n",
       " ['40', '4', '7000'],\n",
       " ['44', '4', '7700'],\n",
       " ['48', '4', '8400'],\n",
       " ['48', '5', '8200'],\n",
       " ['52', '5', '8800'],\n",
       " ['56', '5', '9500'],\n",
       " ['60', '6', '9900'],\n",
       " ['64', '6', '10500'],\n",
       " ['72', '7', '11500'],\n",
       " ['16', '1', '3200'],\n",
       " ['28', '2', '5300'],\n",
       " ['28', '3', '5000'],\n",
       " ['40', '3', '7200']]"
      ]
     },
     "execution_count": 3,
     "metadata": {},
     "output_type": "execute_result"
    }
   ],
   "source": [
    "import csv\n",
    "\n",
    "rows = []\n",
    "with open('grille.csv') as f :\n",
    "    csvreader = csv.reader(f)\n",
    "    for row in csvreader:\n",
    "            rows.append(row)\n",
    "rows"
   ]
  }
 ],
 "metadata": {
  "kernelspec": {
   "display_name": "base",
   "language": "python",
   "name": "python3"
  },
  "language_info": {
   "codemirror_mode": {
    "name": "ipython",
    "version": 3
   },
   "file_extension": ".py",
   "mimetype": "text/x-python",
   "name": "python",
   "nbconvert_exporter": "python",
   "pygments_lexer": "ipython3",
   "version": "3.8.13"
  },
  "orig_nbformat": 4
 },
 "nbformat": 4,
 "nbformat_minor": 2
}
